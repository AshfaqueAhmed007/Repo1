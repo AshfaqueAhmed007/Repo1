{
 "cells": [
  {
   "cell_type": "markdown",
   "id": "7d954ead",
   "metadata": {},
   "source": [
    "# Write a Python program to print the following string in a specific format see the output"
   ]
  },
  {
   "cell_type": "code",
   "execution_count": 1,
   "id": "c9c7590d",
   "metadata": {},
   "outputs": [
    {
     "name": "stdout",
     "output_type": "stream",
     "text": [
      "Twinkle, twinkle, little star,\n",
      "\tHow I wonder what you are!\n",
      "\t\tUp above the world so high,\n",
      "\t\tLike a diamond in the sky.\n",
      "Twinkle, twinkle, little star,\n",
      "\tHow I wonder what you are\n"
     ]
    }
   ],
   "source": [
    "print(\"Twinkle, twinkle, little star,\\n\\tHow I wonder what you are!\\n\\t\\tUp above the world so high,\\n\\t\\tLike a diamond in the sky.\\nTwinkle, twinkle, little star,\\n\\tHow I wonder what you are\")"
   ]
  },
  {
   "cell_type": "markdown",
   "id": "dc31bf11",
   "metadata": {},
   "source": [
    "# Write a Python program to get the Python version you are using"
   ]
  },
  {
   "cell_type": "code",
   "execution_count": 2,
   "id": "8abc0114",
   "metadata": {},
   "outputs": [
    {
     "name": "stdout",
     "output_type": "stream",
     "text": [
      "python version\n",
      "3.8.8 (default, Apr 13 2021, 15:08:03) [MSC v.1916 64 bit (AMD64)]\n",
      "version info.\n",
      "sys.version_info(major=3, minor=8, micro=8, releaselevel='final', serial=0)\n"
     ]
    }
   ],
   "source": [
    "import sys\n",
    "print(\"python version\")\n",
    "print(sys.version)\n",
    "print(\"version info.\")\n",
    "print(sys.version_info)"
   ]
  },
  {
   "cell_type": "markdown",
   "id": "bb03bb0b",
   "metadata": {},
   "source": [
    "# Write a Python program to display the current date and time. "
   ]
  },
  {
   "cell_type": "code",
   "execution_count": 3,
   "id": "6da39588",
   "metadata": {},
   "outputs": [
    {
     "name": "stdout",
     "output_type": "stream",
     "text": [
      "2021-12-31 11:17:57.496004\n"
     ]
    }
   ],
   "source": [
    "import datetime\n",
    "curr_dt = datetime.datetime.now()\n",
    "print(curr_dt) # complete Date and Time"
   ]
  },
  {
   "cell_type": "markdown",
   "id": "f477aab7",
   "metadata": {},
   "source": [
    "# Write a Python program which accepts the radius of a circle from the user and compute the area"
   ]
  },
  {
   "cell_type": "code",
   "execution_count": 4,
   "id": "ec7f3563",
   "metadata": {},
   "outputs": [
    {
     "name": "stdout",
     "output_type": "stream",
     "text": [
      "Enter the radius of circle :6\n",
      "Area of the Circle is : 113.09733552923255\n"
     ]
    }
   ],
   "source": [
    "import math\n",
    "radius =float(input(\"Enter the radius of circle :\"))\n",
    "area = math.pi * radius * radius\n",
    "print(\"Area of the Circle is : {0}\".format(area))"
   ]
  },
  {
   "cell_type": "markdown",
   "id": "4d0447e5",
   "metadata": {},
   "source": [
    "# Write a Python program which accepts the user's first and last name and print them in reverse order with a space between them"
   ]
  },
  {
   "cell_type": "code",
   "execution_count": 5,
   "id": "527dfd57",
   "metadata": {},
   "outputs": [
    {
     "name": "stdout",
     "output_type": "stream",
     "text": [
      "Enter Your First Name:Ali\n",
      "Enter Your Last Name:Ashfaque\n",
      "Hello:Ashfaque Ali\n"
     ]
    }
   ],
   "source": [
    "firstName = input(\"Enter Your First Name:\")\n",
    "lastName = input(\"Enter Your Last Name:\")\n",
    "print(\"Hello:\" + lastName + \" \" + firstName)"
   ]
  },
  {
   "cell_type": "markdown",
   "id": "d3d6e96e",
   "metadata": {},
   "source": [
    "# Write a python program which takes two inputs from user and print them addition "
   ]
  },
  {
   "cell_type": "code",
   "execution_count": 6,
   "id": "2d6ffba1",
   "metadata": {},
   "outputs": [
    {
     "name": "stdout",
     "output_type": "stream",
     "text": [
      "Enter First Number : 4\n",
      "Enter Second Number : 8\n",
      "sum of 4 and 8 is 12\n"
     ]
    }
   ],
   "source": [
    "a=int(input(\"Enter First Number : \"))\n",
    "b=int(input(\"Enter Second Number : \"))\n",
    "print(\"sum of\",a, \"and\",b,\"is\",a+b)"
   ]
  }
 ],
 "metadata": {
  "kernelspec": {
   "display_name": "Python 3",
   "language": "python",
   "name": "python3"
  },
  "language_info": {
   "codemirror_mode": {
    "name": "ipython",
    "version": 3
   },
   "file_extension": ".py",
   "mimetype": "text/x-python",
   "name": "python",
   "nbconvert_exporter": "python",
   "pygments_lexer": "ipython3",
   "version": "3.8.8"
  }
 },
 "nbformat": 4,
 "nbformat_minor": 5
}
